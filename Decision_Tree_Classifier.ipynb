{
 "cells": [
  {
   "cell_type": "code",
   "execution_count": 1,
   "id": "b9e07b35",
   "metadata": {},
   "outputs": [],
   "source": [
    "# On importe les librairies necessaires\n",
    "import numpy as np\n",
    "import pandas as pd\n",
    "import matplotlib.pyplot as plt\n",
    "from sklearn import tree\n",
    "from sklearn.model_selection import train_test_split\n",
    "from sklearn.metrics import accuracy_score"
   ]
  },
  {
   "cell_type": "code",
   "execution_count": 2,
   "id": "fdd398a1",
   "metadata": {},
   "outputs": [],
   "source": [
    "# On charge les données\n",
    "iris = pd.read_csv(\"C:/Users/GRETA/Desktop/CSV/iris.csv\")"
   ]
  },
  {
   "cell_type": "code",
   "execution_count": 3,
   "id": "c9926f2b",
   "metadata": {},
   "outputs": [
    {
     "data": {
      "text/html": [
       "<div>\n",
       "<style scoped>\n",
       "    .dataframe tbody tr th:only-of-type {\n",
       "        vertical-align: middle;\n",
       "    }\n",
       "\n",
       "    .dataframe tbody tr th {\n",
       "        vertical-align: top;\n",
       "    }\n",
       "\n",
       "    .dataframe thead th {\n",
       "        text-align: right;\n",
       "    }\n",
       "</style>\n",
       "<table border=\"1\" class=\"dataframe\">\n",
       "  <thead>\n",
       "    <tr style=\"text-align: right;\">\n",
       "      <th></th>\n",
       "      <th>sepal.length</th>\n",
       "      <th>sepal.width</th>\n",
       "      <th>petal.length</th>\n",
       "      <th>petal.width</th>\n",
       "      <th>variety</th>\n",
       "    </tr>\n",
       "  </thead>\n",
       "  <tbody>\n",
       "    <tr>\n",
       "      <th>0</th>\n",
       "      <td>5.1</td>\n",
       "      <td>3.5</td>\n",
       "      <td>1.4</td>\n",
       "      <td>0.2</td>\n",
       "      <td>Setosa</td>\n",
       "    </tr>\n",
       "    <tr>\n",
       "      <th>1</th>\n",
       "      <td>4.9</td>\n",
       "      <td>3.0</td>\n",
       "      <td>1.4</td>\n",
       "      <td>0.2</td>\n",
       "      <td>Setosa</td>\n",
       "    </tr>\n",
       "    <tr>\n",
       "      <th>2</th>\n",
       "      <td>4.7</td>\n",
       "      <td>3.2</td>\n",
       "      <td>1.3</td>\n",
       "      <td>0.2</td>\n",
       "      <td>Setosa</td>\n",
       "    </tr>\n",
       "    <tr>\n",
       "      <th>3</th>\n",
       "      <td>4.6</td>\n",
       "      <td>3.1</td>\n",
       "      <td>1.5</td>\n",
       "      <td>0.2</td>\n",
       "      <td>Setosa</td>\n",
       "    </tr>\n",
       "    <tr>\n",
       "      <th>4</th>\n",
       "      <td>5.0</td>\n",
       "      <td>3.6</td>\n",
       "      <td>1.4</td>\n",
       "      <td>0.2</td>\n",
       "      <td>Setosa</td>\n",
       "    </tr>\n",
       "  </tbody>\n",
       "</table>\n",
       "</div>"
      ],
      "text/plain": [
       "   sepal.length  sepal.width  petal.length  petal.width variety\n",
       "0           5.1          3.5           1.4          0.2  Setosa\n",
       "1           4.9          3.0           1.4          0.2  Setosa\n",
       "2           4.7          3.2           1.3          0.2  Setosa\n",
       "3           4.6          3.1           1.5          0.2  Setosa\n",
       "4           5.0          3.6           1.4          0.2  Setosa"
      ]
     },
     "execution_count": 3,
     "metadata": {},
     "output_type": "execute_result"
    }
   ],
   "source": [
    "# On vérifie qu'elles sont présentes\n",
    "iris.head()"
   ]
  },
  {
   "cell_type": "code",
   "execution_count": 4,
   "id": "5d2d7d12",
   "metadata": {},
   "outputs": [],
   "source": [
    "# On convertit le dataframe pandas en tableau numpy\n",
    "df = iris.to_numpy()"
   ]
  },
  {
   "cell_type": "code",
   "execution_count": 5,
   "id": "5fa9f9a3",
   "metadata": {},
   "outputs": [],
   "source": [
    "# On utiliseras seulement les colonnes petal.length et petal.width\n",
    "df2 = df[:, [2,3,4]]"
   ]
  },
  {
   "cell_type": "code",
   "execution_count": 6,
   "id": "4b096d27",
   "metadata": {},
   "outputs": [
    {
     "data": {
      "text/plain": [
       "array([[1.4, 0.2, 'Setosa'],\n",
       "       [1.4, 0.2, 'Setosa'],\n",
       "       [1.3, 0.2, 'Setosa'],\n",
       "       [1.5, 0.2, 'Setosa'],\n",
       "       [1.4, 0.2, 'Setosa'],\n",
       "       [1.7, 0.4, 'Setosa'],\n",
       "       [1.4, 0.3, 'Setosa'],\n",
       "       [1.5, 0.2, 'Setosa'],\n",
       "       [1.4, 0.2, 'Setosa'],\n",
       "       [1.5, 0.1, 'Setosa'],\n",
       "       [1.5, 0.2, 'Setosa'],\n",
       "       [1.6, 0.2, 'Setosa'],\n",
       "       [1.4, 0.1, 'Setosa'],\n",
       "       [1.1, 0.1, 'Setosa'],\n",
       "       [1.2, 0.2, 'Setosa'],\n",
       "       [1.5, 0.4, 'Setosa'],\n",
       "       [1.3, 0.4, 'Setosa'],\n",
       "       [1.4, 0.3, 'Setosa'],\n",
       "       [1.7, 0.3, 'Setosa'],\n",
       "       [1.5, 0.3, 'Setosa'],\n",
       "       [1.7, 0.2, 'Setosa'],\n",
       "       [1.5, 0.4, 'Setosa'],\n",
       "       [1.0, 0.2, 'Setosa'],\n",
       "       [1.7, 0.5, 'Setosa'],\n",
       "       [1.9, 0.2, 'Setosa'],\n",
       "       [1.6, 0.2, 'Setosa'],\n",
       "       [1.6, 0.4, 'Setosa'],\n",
       "       [1.5, 0.2, 'Setosa'],\n",
       "       [1.4, 0.2, 'Setosa'],\n",
       "       [1.6, 0.2, 'Setosa'],\n",
       "       [1.6, 0.2, 'Setosa'],\n",
       "       [1.5, 0.4, 'Setosa'],\n",
       "       [1.5, 0.1, 'Setosa'],\n",
       "       [1.4, 0.2, 'Setosa'],\n",
       "       [1.5, 0.2, 'Setosa'],\n",
       "       [1.2, 0.2, 'Setosa'],\n",
       "       [1.3, 0.2, 'Setosa'],\n",
       "       [1.4, 0.1, 'Setosa'],\n",
       "       [1.3, 0.2, 'Setosa'],\n",
       "       [1.5, 0.2, 'Setosa'],\n",
       "       [1.3, 0.3, 'Setosa'],\n",
       "       [1.3, 0.3, 'Setosa'],\n",
       "       [1.3, 0.2, 'Setosa'],\n",
       "       [1.6, 0.6, 'Setosa'],\n",
       "       [1.9, 0.4, 'Setosa'],\n",
       "       [1.4, 0.3, 'Setosa'],\n",
       "       [1.6, 0.2, 'Setosa'],\n",
       "       [1.4, 0.2, 'Setosa'],\n",
       "       [1.5, 0.2, 'Setosa'],\n",
       "       [1.4, 0.2, 'Setosa'],\n",
       "       [4.7, 1.4, 'Versicolor'],\n",
       "       [4.5, 1.5, 'Versicolor'],\n",
       "       [4.9, 1.5, 'Versicolor'],\n",
       "       [4.0, 1.3, 'Versicolor'],\n",
       "       [4.6, 1.5, 'Versicolor'],\n",
       "       [4.5, 1.3, 'Versicolor'],\n",
       "       [4.7, 1.6, 'Versicolor'],\n",
       "       [3.3, 1.0, 'Versicolor'],\n",
       "       [4.6, 1.3, 'Versicolor'],\n",
       "       [3.9, 1.4, 'Versicolor'],\n",
       "       [3.5, 1.0, 'Versicolor'],\n",
       "       [4.2, 1.5, 'Versicolor'],\n",
       "       [4.0, 1.0, 'Versicolor'],\n",
       "       [4.7, 1.4, 'Versicolor'],\n",
       "       [3.6, 1.3, 'Versicolor'],\n",
       "       [4.4, 1.4, 'Versicolor'],\n",
       "       [4.5, 1.5, 'Versicolor'],\n",
       "       [4.1, 1.0, 'Versicolor'],\n",
       "       [4.5, 1.5, 'Versicolor'],\n",
       "       [3.9, 1.1, 'Versicolor'],\n",
       "       [4.8, 1.8, 'Versicolor'],\n",
       "       [4.0, 1.3, 'Versicolor'],\n",
       "       [4.9, 1.5, 'Versicolor'],\n",
       "       [4.7, 1.2, 'Versicolor'],\n",
       "       [4.3, 1.3, 'Versicolor'],\n",
       "       [4.4, 1.4, 'Versicolor'],\n",
       "       [4.8, 1.4, 'Versicolor'],\n",
       "       [5.0, 1.7, 'Versicolor'],\n",
       "       [4.5, 1.5, 'Versicolor'],\n",
       "       [3.5, 1.0, 'Versicolor'],\n",
       "       [3.8, 1.1, 'Versicolor'],\n",
       "       [3.7, 1.0, 'Versicolor'],\n",
       "       [3.9, 1.2, 'Versicolor'],\n",
       "       [5.1, 1.6, 'Versicolor'],\n",
       "       [4.5, 1.5, 'Versicolor'],\n",
       "       [4.5, 1.6, 'Versicolor'],\n",
       "       [4.7, 1.5, 'Versicolor'],\n",
       "       [4.4, 1.3, 'Versicolor'],\n",
       "       [4.1, 1.3, 'Versicolor'],\n",
       "       [4.0, 1.3, 'Versicolor'],\n",
       "       [4.4, 1.2, 'Versicolor'],\n",
       "       [4.6, 1.4, 'Versicolor'],\n",
       "       [4.0, 1.2, 'Versicolor'],\n",
       "       [3.3, 1.0, 'Versicolor'],\n",
       "       [4.2, 1.3, 'Versicolor'],\n",
       "       [4.2, 1.2, 'Versicolor'],\n",
       "       [4.2, 1.3, 'Versicolor'],\n",
       "       [4.3, 1.3, 'Versicolor'],\n",
       "       [3.0, 1.1, 'Versicolor'],\n",
       "       [4.1, 1.3, 'Versicolor'],\n",
       "       [6.0, 2.5, 'Virginica'],\n",
       "       [5.1, 1.9, 'Virginica'],\n",
       "       [5.9, 2.1, 'Virginica'],\n",
       "       [5.6, 1.8, 'Virginica'],\n",
       "       [5.8, 2.2, 'Virginica'],\n",
       "       [6.6, 2.1, 'Virginica'],\n",
       "       [4.5, 1.7, 'Virginica'],\n",
       "       [6.3, 1.8, 'Virginica'],\n",
       "       [5.8, 1.8, 'Virginica'],\n",
       "       [6.1, 2.5, 'Virginica'],\n",
       "       [5.1, 2.0, 'Virginica'],\n",
       "       [5.3, 1.9, 'Virginica'],\n",
       "       [5.5, 2.1, 'Virginica'],\n",
       "       [5.0, 2.0, 'Virginica'],\n",
       "       [5.1, 2.4, 'Virginica'],\n",
       "       [5.3, 2.3, 'Virginica'],\n",
       "       [5.5, 1.8, 'Virginica'],\n",
       "       [6.7, 2.2, 'Virginica'],\n",
       "       [6.9, 2.3, 'Virginica'],\n",
       "       [5.0, 1.5, 'Virginica'],\n",
       "       [5.7, 2.3, 'Virginica'],\n",
       "       [4.9, 2.0, 'Virginica'],\n",
       "       [6.7, 2.0, 'Virginica'],\n",
       "       [4.9, 1.8, 'Virginica'],\n",
       "       [5.7, 2.1, 'Virginica'],\n",
       "       [6.0, 1.8, 'Virginica'],\n",
       "       [4.8, 1.8, 'Virginica'],\n",
       "       [4.9, 1.8, 'Virginica'],\n",
       "       [5.6, 2.1, 'Virginica'],\n",
       "       [5.8, 1.6, 'Virginica'],\n",
       "       [6.1, 1.9, 'Virginica'],\n",
       "       [6.4, 2.0, 'Virginica'],\n",
       "       [5.6, 2.2, 'Virginica'],\n",
       "       [5.1, 1.5, 'Virginica'],\n",
       "       [5.6, 1.4, 'Virginica'],\n",
       "       [6.1, 2.3, 'Virginica'],\n",
       "       [5.6, 2.4, 'Virginica'],\n",
       "       [5.5, 1.8, 'Virginica'],\n",
       "       [4.8, 1.8, 'Virginica'],\n",
       "       [5.4, 2.1, 'Virginica'],\n",
       "       [5.6, 2.4, 'Virginica'],\n",
       "       [5.1, 2.3, 'Virginica'],\n",
       "       [5.1, 1.9, 'Virginica'],\n",
       "       [5.9, 2.3, 'Virginica'],\n",
       "       [5.7, 2.5, 'Virginica'],\n",
       "       [5.2, 2.3, 'Virginica'],\n",
       "       [5.0, 1.9, 'Virginica'],\n",
       "       [5.2, 2.0, 'Virginica'],\n",
       "       [5.4, 2.3, 'Virginica'],\n",
       "       [5.1, 1.8, 'Virginica']], dtype=object)"
      ]
     },
     "execution_count": 6,
     "metadata": {},
     "output_type": "execute_result"
    }
   ],
   "source": [
    "# On affiche les données\n",
    "df2"
   ]
  },
  {
   "cell_type": "code",
   "execution_count": 7,
   "id": "2bae3926",
   "metadata": {},
   "outputs": [
    {
     "data": {
      "text/plain": [
       "<function matplotlib.pyplot.show(close=None, block=None)>"
      ]
     },
     "execution_count": 7,
     "metadata": {},
     "output_type": "execute_result"
    },
    {
     "data": {
      "image/png": "[encoded data removed]",
      "text/plain": [
       "<Figure size 640x480 with 1 Axes>"
      ]
     },
     "metadata": {},
     "output_type": "display_data"
    }
   ],
   "source": [
    "# On visualize les données sous forme de graphique\n",
    "plt.plot(df2[:, [0,1]])\n",
    "plt.show"
   ]
  },
  {
   "cell_type": "code",
   "execution_count": 8,
   "id": "96b6b5f6",
   "metadata": {},
   "outputs": [],
   "source": [
    "data = df2[:, [0,1]]\n",
    "\n",
    "labels = df2[:, 2]"
   ]
  },
  {
   "cell_type": "code",
   "execution_count": 9,
   "id": "66eb3c8f",
   "metadata": {
    "scrolled": true
   },
   "outputs": [
    {
     "name": "stdout",
     "output_type": "stream",
     "text": [
      "Prédiction sur l'ensemble d'entrainement :\n",
      "['Setosa' 'Setosa' 'Versicolor' 'Setosa' 'Setosa' 'Virginica' 'Versicolor'\n",
      " 'Setosa' 'Setosa' 'Setosa' 'Virginica' 'Versicolor' 'Versicolor' 'Setosa'\n",
      " 'Setosa' 'Versicolor' 'Versicolor' 'Virginica' 'Versicolor' 'Virginica'\n",
      " 'Versicolor' 'Virginica' 'Versicolor' 'Setosa' 'Virginica' 'Versicolor'\n",
      " 'Setosa' 'Setosa' 'Setosa' 'Versicolor' 'Virginica' 'Setosa' 'Setosa'\n",
      " 'Setosa' 'Versicolor' 'Setosa' 'Versicolor' 'Virginica' 'Setosa'\n",
      " 'Versicolor' 'Virginica' 'Setosa' 'Virginica' 'Virginica' 'Versicolor'\n",
      " 'Versicolor' 'Virginica' 'Versicolor' 'Setosa' 'Versicolor' 'Virginica'\n",
      " 'Setosa' 'Setosa' 'Versicolor' 'Versicolor' 'Setosa' 'Virginica' 'Setosa'\n",
      " 'Setosa' 'Virginica' 'Versicolor' 'Virginica' 'Versicolor' 'Versicolor'\n",
      " 'Virginica' 'Versicolor' 'Setosa' 'Setosa' 'Versicolor' 'Virginica'\n",
      " 'Setosa' 'Setosa' 'Setosa' 'Versicolor' 'Virginica' 'Setosa' 'Virginica'\n",
      " 'Virginica' 'Setosa' 'Versicolor' 'Versicolor' 'Virginica' 'Versicolor'\n",
      " 'Virginica' 'Setosa' 'Virginica' 'Versicolor' 'Virginica' 'Versicolor'\n",
      " 'Versicolor' 'Versicolor' 'Setosa' 'Versicolor' 'Versicolor' 'Setosa'\n",
      " 'Versicolor' 'Virginica' 'Virginica' 'Setosa' 'Versicolor' 'Virginica'\n",
      " 'Versicolor' 'Setosa' 'Virginica' 'Setosa' 'Versicolor' 'Virginica'\n",
      " 'Virginica' 'Versicolor' 'Virginica' 'Versicolor' 'Versicolor'\n",
      " 'Virginica' 'Virginica' 'Setosa' 'Versicolor' 'Virginica' 'Setosa'\n",
      " 'Versicolor' 'Virginica']\n",
      "Prédiction sur l'ensemble de test :\n",
      "['Versicolor' 'Setosa' 'Virginica' 'Versicolor' 'Versicolor' 'Setosa'\n",
      " 'Versicolor' 'Virginica' 'Versicolor' 'Versicolor' 'Virginica' 'Setosa'\n",
      " 'Setosa' 'Setosa' 'Setosa' 'Versicolor' 'Virginica' 'Versicolor'\n",
      " 'Versicolor' 'Virginica' 'Setosa' 'Virginica' 'Setosa' 'Virginica'\n",
      " 'Virginica' 'Virginica' 'Virginica' 'Virginica' 'Setosa' 'Setosa']\n"
     ]
    }
   ],
   "source": [
    "# Séparation des données en un ensemble d'entraînement et un ensemble de test\n",
    "X_train, X_test, y_train, y_test = train_test_split(data, labels, test_size=0.2, random_state=42)\n",
    "\n",
    "# Création du modèle d'arbre de décision en utilisant une profondeur maximale de 3\n",
    "clf = tree.DecisionTreeClassifier(max_depth = 3)\n",
    "\n",
    "# Entraînement du modèle\n",
    "clf.fit(X_train, y_train)\n",
    "\n",
    "# Prédiction sur l'ensemble d'entraînement\n",
    "y_train_pred = clf.predict(X_train)\n",
    "print(f'Prédiction sur l\\'ensemble d\\'entrainement :\\n{y_train_pred}')\n",
    "\n",
    "# Prédiction sur l'ensemble de test\n",
    "y_test_pred = clf.predict(X_test)\n",
    "print(f'Prédiction sur l\\'ensemble de test :\\n{y_test_pred}')"
   ]
  },
  {
   "cell_type": "code",
   "execution_count": 10,
   "id": "28b67163",
   "metadata": {},
   "outputs": [
    {
     "name": "stdout",
     "output_type": "stream",
     "text": [
      "Accuracy sur le jeu d'entraînement : 0.9583333333333334\n",
      "Accuracy sur le jeu de test : 1.0\n"
     ]
    }
   ],
   "source": [
    "# Évaluation du modèle\n",
    "train_accuracy = accuracy_score(y_train, y_train_pred)\n",
    "test_accuracy = accuracy_score(y_test, y_test_pred)\n",
    "print(f'Accuracy sur le jeu d\\'entraînement : {train_accuracy}')\n",
    "print(f'Accuracy sur le jeu de test : {test_accuracy}')"
   ]
  },
  {
   "cell_type": "code",
   "execution_count": 11,
   "id": "efab4b3d",
   "metadata": {},
   "outputs": [
    {
     "name": "stdout",
     "output_type": "stream",
     "text": [
      "Prédiction sur l'ensemble d'entrainement :\n",
      "['Setosa' 'Setosa' 'Versicolor' 'Setosa' 'Setosa' 'Virginica' 'Versicolor'\n",
      " 'Setosa' 'Setosa' 'Setosa' 'Virginica' 'Versicolor' 'Versicolor' 'Setosa'\n",
      " 'Setosa' 'Versicolor' 'Virginica' 'Virginica' 'Versicolor' 'Virginica'\n",
      " 'Versicolor' 'Virginica' 'Versicolor' 'Setosa' 'Virginica' 'Versicolor'\n",
      " 'Setosa' 'Setosa' 'Setosa' 'Versicolor' 'Virginica' 'Setosa' 'Setosa'\n",
      " 'Setosa' 'Versicolor' 'Setosa' 'Versicolor' 'Virginica' 'Setosa'\n",
      " 'Versicolor' 'Virginica' 'Setosa' 'Virginica' 'Virginica' 'Versicolor'\n",
      " 'Versicolor' 'Virginica' 'Versicolor' 'Setosa' 'Versicolor' 'Virginica'\n",
      " 'Setosa' 'Setosa' 'Versicolor' 'Virginica' 'Setosa' 'Virginica' 'Setosa'\n",
      " 'Setosa' 'Virginica' 'Versicolor' 'Virginica' 'Virginica' 'Virginica'\n",
      " 'Virginica' 'Versicolor' 'Setosa' 'Setosa' 'Virginica' 'Virginica'\n",
      " 'Setosa' 'Setosa' 'Setosa' 'Versicolor' 'Virginica' 'Setosa' 'Virginica'\n",
      " 'Virginica' 'Setosa' 'Versicolor' 'Versicolor' 'Virginica' 'Versicolor'\n",
      " 'Virginica' 'Setosa' 'Virginica' 'Versicolor' 'Virginica' 'Versicolor'\n",
      " 'Versicolor' 'Versicolor' 'Setosa' 'Versicolor' 'Versicolor' 'Setosa'\n",
      " 'Versicolor' 'Virginica' 'Virginica' 'Setosa' 'Versicolor' 'Virginica'\n",
      " 'Virginica' 'Setosa' 'Virginica' 'Setosa' 'Versicolor' 'Virginica'\n",
      " 'Virginica' 'Versicolor' 'Virginica' 'Versicolor' 'Versicolor'\n",
      " 'Virginica' 'Virginica' 'Setosa' 'Versicolor' 'Virginica' 'Setosa'\n",
      " 'Versicolor' 'Virginica']\n",
      "Prédiction sur l'ensemble de test :\n",
      "['Versicolor' 'Setosa' 'Virginica' 'Versicolor' 'Versicolor' 'Setosa'\n",
      " 'Versicolor' 'Virginica' 'Versicolor' 'Versicolor' 'Virginica' 'Setosa'\n",
      " 'Setosa' 'Setosa' 'Setosa' 'Versicolor' 'Virginica' 'Versicolor'\n",
      " 'Versicolor' 'Virginica' 'Setosa' 'Virginica' 'Setosa' 'Virginica'\n",
      " 'Virginica' 'Virginica' 'Virginica' 'Virginica' 'Setosa' 'Setosa']\n"
     ]
    }
   ],
   "source": [
    "# Séparation des données en un ensemble d'entraînement et un ensemble de test\n",
    "X_train, X_test, y_train, y_test = train_test_split(data, labels, test_size=0.2, random_state=42)\n",
    "\n",
    "# Création du modèle d'arbre de décision en utilisant une profondeur maximale de 4\n",
    "clf = tree.DecisionTreeClassifier(max_depth = 4)\n",
    "\n",
    "# Entraînement du modèle\n",
    "clf.fit(X_train, y_train)\n",
    "\n",
    "# Prédiction sur l'ensemble d'entraînement\n",
    "y_train_pred = clf.predict(X_train)\n",
    "print(f'Prédiction sur l\\'ensemble d\\'entrainement :\\n{y_train_pred}')\n",
    "\n",
    "# Prédiction sur l'ensemble de test\n",
    "y_test_pred = clf.predict(X_test)\n",
    "print(f'Prédiction sur l\\'ensemble de test :\\n{y_test_pred}')"
   ]
  },
  {
   "cell_type": "code",
   "execution_count": 12,
   "id": "46acac1e",
   "metadata": {},
   "outputs": [
    {
     "name": "stdout",
     "output_type": "stream",
     "text": [
      "Accuracy sur le jeu d'entraînement : 0.975\n",
      "Accuracy sur le jeu de test : 1.0\n"
     ]
    }
   ],
   "source": [
    "# Évaluation du modèle\n",
    "train_accuracy = accuracy_score(y_train, y_train_pred)\n",
    "test_accuracy = accuracy_score(y_test, y_test_pred)\n",
    "print(f'Accuracy sur le jeu d\\'entraînement : {train_accuracy}')\n",
    "print(f'Accuracy sur le jeu de test : {test_accuracy}')"
   ]
  },
  {
   "cell_type": "code",
   "execution_count": 13,
   "id": "65af7a1d",
   "metadata": {},
   "outputs": [
    {
     "name": "stdout",
     "output_type": "stream",
     "text": [
      "Prédiction sur l'ensemble d'entrainement :\n",
      "['Setosa' 'Setosa' 'Versicolor' 'Setosa' 'Setosa' 'Virginica' 'Versicolor'\n",
      " 'Setosa' 'Setosa' 'Setosa' 'Virginica' 'Versicolor' 'Versicolor' 'Setosa'\n",
      " 'Setosa' 'Versicolor' 'Virginica' 'Virginica' 'Versicolor' 'Virginica'\n",
      " 'Versicolor' 'Virginica' 'Versicolor' 'Setosa' 'Virginica' 'Versicolor'\n",
      " 'Setosa' 'Setosa' 'Setosa' 'Versicolor' 'Virginica' 'Setosa' 'Setosa'\n",
      " 'Setosa' 'Versicolor' 'Setosa' 'Versicolor' 'Virginica' 'Setosa'\n",
      " 'Versicolor' 'Virginica' 'Setosa' 'Virginica' 'Virginica' 'Versicolor'\n",
      " 'Versicolor' 'Virginica' 'Versicolor' 'Setosa' 'Versicolor' 'Virginica'\n",
      " 'Setosa' 'Setosa' 'Versicolor' 'Versicolor' 'Setosa' 'Virginica' 'Setosa'\n",
      " 'Setosa' 'Virginica' 'Versicolor' 'Virginica' 'Versicolor' 'Virginica'\n",
      " 'Virginica' 'Versicolor' 'Setosa' 'Setosa' 'Virginica' 'Virginica'\n",
      " 'Setosa' 'Setosa' 'Setosa' 'Versicolor' 'Virginica' 'Setosa' 'Virginica'\n",
      " 'Virginica' 'Setosa' 'Versicolor' 'Versicolor' 'Virginica' 'Versicolor'\n",
      " 'Virginica' 'Setosa' 'Virginica' 'Versicolor' 'Virginica' 'Versicolor'\n",
      " 'Versicolor' 'Versicolor' 'Setosa' 'Versicolor' 'Versicolor' 'Setosa'\n",
      " 'Versicolor' 'Virginica' 'Virginica' 'Setosa' 'Versicolor' 'Virginica'\n",
      " 'Versicolor' 'Setosa' 'Virginica' 'Setosa' 'Versicolor' 'Virginica'\n",
      " 'Virginica' 'Versicolor' 'Virginica' 'Versicolor' 'Versicolor'\n",
      " 'Virginica' 'Virginica' 'Setosa' 'Versicolor' 'Virginica' 'Setosa'\n",
      " 'Versicolor' 'Virginica']\n",
      "Prédiction sur l'ensemble de test :\n",
      "['Versicolor' 'Setosa' 'Virginica' 'Versicolor' 'Versicolor' 'Setosa'\n",
      " 'Versicolor' 'Virginica' 'Versicolor' 'Versicolor' 'Virginica' 'Setosa'\n",
      " 'Setosa' 'Setosa' 'Setosa' 'Versicolor' 'Virginica' 'Versicolor'\n",
      " 'Versicolor' 'Virginica' 'Setosa' 'Virginica' 'Setosa' 'Virginica'\n",
      " 'Virginica' 'Virginica' 'Virginica' 'Virginica' 'Setosa' 'Setosa']\n"
     ]
    }
   ],
   "source": [
    "# Séparation des données en un ensemble d'entraînement et un ensemble de test\n",
    "X_train, X_test, y_train, y_test = train_test_split(data, labels, test_size=0.2, random_state=42)\n",
    "\n",
    "# Création du modèle d'arbre de décision en utilisant une profondeur maximale de 5\n",
    "clf = tree.DecisionTreeClassifier(max_depth = 5)\n",
    "\n",
    "# Entraînement du modèle\n",
    "clf.fit(X_train, y_train)\n",
    "\n",
    "# Prédiction sur l'ensemble d'entraînement\n",
    "y_train_pred = clf.predict(X_train)\n",
    "print(f'Prédiction sur l\\'ensemble d\\'entrainement :\\n{y_train_pred}')\n",
    "\n",
    "# Prédiction sur l'ensemble de test\n",
    "y_test_pred = clf.predict(X_test)\n",
    "print(f'Prédiction sur l\\'ensemble de test :\\n{y_test_pred}')"
   ]
  },
  {
   "cell_type": "code",
   "execution_count": 14,
   "id": "e95ea357",
   "metadata": {},
   "outputs": [
    {
     "name": "stdout",
     "output_type": "stream",
     "text": [
      "Accuracy sur le jeu d'entraînement : 0.9833333333333333\n",
      "Accuracy sur le jeu de test : 1.0\n"
     ]
    }
   ],
   "source": [
    "# Évaluation du modèle\n",
    "train_accuracy = accuracy_score(y_train, y_train_pred)\n",
    "test_accuracy = accuracy_score(y_test, y_test_pred)\n",
    "print(f'Accuracy sur le jeu d\\'entraînement : {train_accuracy}')\n",
    "print(f'Accuracy sur le jeu de test : {test_accuracy}')"
   ]
  },
  {
   "cell_type": "code",
   "execution_count": 15,
   "id": "f1e32c81",
   "metadata": {},
   "outputs": [
    {
     "name": "stdout",
     "output_type": "stream",
     "text": [
      "Prédiction sur l'ensemble d'entrainement :\n",
      "['Setosa' 'Setosa' 'Versicolor' 'Setosa' 'Setosa' 'Virginica' 'Versicolor'\n",
      " 'Setosa' 'Setosa' 'Setosa' 'Virginica' 'Versicolor' 'Versicolor' 'Setosa'\n",
      " 'Setosa' 'Versicolor' 'Virginica' 'Virginica' 'Versicolor' 'Virginica'\n",
      " 'Versicolor' 'Virginica' 'Versicolor' 'Setosa' 'Virginica' 'Versicolor'\n",
      " 'Setosa' 'Setosa' 'Setosa' 'Versicolor' 'Virginica' 'Setosa' 'Setosa'\n",
      " 'Setosa' 'Versicolor' 'Setosa' 'Versicolor' 'Virginica' 'Setosa'\n",
      " 'Versicolor' 'Virginica' 'Setosa' 'Virginica' 'Virginica' 'Versicolor'\n",
      " 'Versicolor' 'Virginica' 'Versicolor' 'Setosa' 'Versicolor' 'Virginica'\n",
      " 'Setosa' 'Setosa' 'Versicolor' 'Versicolor' 'Setosa' 'Virginica' 'Setosa'\n",
      " 'Setosa' 'Virginica' 'Versicolor' 'Virginica' 'Versicolor' 'Virginica'\n",
      " 'Virginica' 'Versicolor' 'Setosa' 'Setosa' 'Virginica' 'Virginica'\n",
      " 'Setosa' 'Setosa' 'Setosa' 'Versicolor' 'Virginica' 'Setosa' 'Virginica'\n",
      " 'Virginica' 'Setosa' 'Versicolor' 'Versicolor' 'Virginica' 'Versicolor'\n",
      " 'Virginica' 'Setosa' 'Virginica' 'Versicolor' 'Virginica' 'Versicolor'\n",
      " 'Versicolor' 'Versicolor' 'Setosa' 'Versicolor' 'Versicolor' 'Setosa'\n",
      " 'Versicolor' 'Virginica' 'Virginica' 'Setosa' 'Versicolor' 'Virginica'\n",
      " 'Virginica' 'Setosa' 'Virginica' 'Setosa' 'Versicolor' 'Virginica'\n",
      " 'Virginica' 'Versicolor' 'Virginica' 'Versicolor' 'Versicolor'\n",
      " 'Virginica' 'Virginica' 'Setosa' 'Versicolor' 'Virginica' 'Setosa'\n",
      " 'Versicolor' 'Virginica']\n",
      "Prédiction sur l'ensemble de test :\n",
      "['Versicolor' 'Setosa' 'Virginica' 'Versicolor' 'Versicolor' 'Setosa'\n",
      " 'Versicolor' 'Virginica' 'Versicolor' 'Versicolor' 'Virginica' 'Setosa'\n",
      " 'Setosa' 'Setosa' 'Setosa' 'Versicolor' 'Virginica' 'Versicolor'\n",
      " 'Versicolor' 'Virginica' 'Setosa' 'Virginica' 'Setosa' 'Virginica'\n",
      " 'Virginica' 'Virginica' 'Virginica' 'Virginica' 'Setosa' 'Setosa']\n"
     ]
    }
   ],
   "source": [
    "# Séparation des données en un ensemble d'entraînement et un ensemble de test\n",
    "X_train, X_test, y_train, y_test = train_test_split(data, labels, test_size=0.2, random_state=42)\n",
    "\n",
    "# Création du modèle d'arbre de décision en utilisant une profondeur maximale de 6\n",
    "clf = tree.DecisionTreeClassifier(max_depth = 6)\n",
    "\n",
    "# Entraînement du modèle\n",
    "clf.fit(X_train, y_train)\n",
    "\n",
    "# Prédiction sur l'ensemble d'entraînement\n",
    "y_train_pred = clf.predict(X_train)\n",
    "print(f'Prédiction sur l\\'ensemble d\\'entrainement :\\n{y_train_pred}')\n",
    "\n",
    "# Prédiction sur l'ensemble de test\n",
    "y_test_pred = clf.predict(X_test)\n",
    "print(f'Prédiction sur l\\'ensemble de test :\\n{y_test_pred}')"
   ]
  },
  {
   "cell_type": "code",
   "execution_count": 16,
   "id": "f804c4c0",
   "metadata": {},
   "outputs": [
    {
     "name": "stdout",
     "output_type": "stream",
     "text": [
      "Accuracy sur le jeu d'entraînement : 0.9916666666666667\n",
      "Accuracy sur le jeu de test : 1.0\n"
     ]
    }
   ],
   "source": [
    "# Évaluation du modèle\n",
    "train_accuracy = accuracy_score(y_train, y_train_pred)\n",
    "test_accuracy = accuracy_score(y_test, y_test_pred)\n",
    "print(f'Accuracy sur le jeu d\\'entraînement : {train_accuracy}')\n",
    "print(f'Accuracy sur le jeu de test : {test_accuracy}')"
   ]
  },
  {
   "cell_type": "code",
   "execution_count": 17,
   "id": "fd96fe95",
   "metadata": {},
   "outputs": [
    {
     "name": "stdout",
     "output_type": "stream",
     "text": [
      "Prédiction sur l'ensemble d'entrainement :\n",
      "['Setosa' 'Setosa' 'Versicolor' 'Setosa' 'Setosa' 'Virginica' 'Versicolor'\n",
      " 'Setosa' 'Setosa' 'Setosa' 'Virginica' 'Versicolor' 'Versicolor' 'Setosa'\n",
      " 'Setosa' 'Versicolor' 'Virginica' 'Virginica' 'Versicolor' 'Virginica'\n",
      " 'Versicolor' 'Virginica' 'Versicolor' 'Setosa' 'Virginica' 'Versicolor'\n",
      " 'Setosa' 'Setosa' 'Setosa' 'Versicolor' 'Virginica' 'Setosa' 'Setosa'\n",
      " 'Setosa' 'Versicolor' 'Setosa' 'Versicolor' 'Virginica' 'Setosa'\n",
      " 'Versicolor' 'Virginica' 'Setosa' 'Virginica' 'Virginica' 'Versicolor'\n",
      " 'Versicolor' 'Virginica' 'Versicolor' 'Setosa' 'Versicolor' 'Virginica'\n",
      " 'Setosa' 'Setosa' 'Versicolor' 'Versicolor' 'Setosa' 'Virginica' 'Setosa'\n",
      " 'Setosa' 'Virginica' 'Versicolor' 'Virginica' 'Versicolor' 'Virginica'\n",
      " 'Virginica' 'Versicolor' 'Setosa' 'Setosa' 'Virginica' 'Virginica'\n",
      " 'Setosa' 'Setosa' 'Setosa' 'Versicolor' 'Virginica' 'Setosa' 'Virginica'\n",
      " 'Virginica' 'Setosa' 'Versicolor' 'Versicolor' 'Virginica' 'Versicolor'\n",
      " 'Virginica' 'Setosa' 'Virginica' 'Versicolor' 'Virginica' 'Versicolor'\n",
      " 'Versicolor' 'Versicolor' 'Setosa' 'Versicolor' 'Versicolor' 'Setosa'\n",
      " 'Versicolor' 'Virginica' 'Virginica' 'Setosa' 'Versicolor' 'Virginica'\n",
      " 'Virginica' 'Setosa' 'Virginica' 'Setosa' 'Versicolor' 'Virginica'\n",
      " 'Virginica' 'Versicolor' 'Virginica' 'Versicolor' 'Versicolor'\n",
      " 'Virginica' 'Virginica' 'Setosa' 'Versicolor' 'Virginica' 'Setosa'\n",
      " 'Versicolor' 'Virginica']\n",
      "Prédiction sur l'ensemble de test :\n",
      "['Versicolor' 'Setosa' 'Virginica' 'Versicolor' 'Versicolor' 'Setosa'\n",
      " 'Versicolor' 'Virginica' 'Versicolor' 'Versicolor' 'Virginica' 'Setosa'\n",
      " 'Setosa' 'Setosa' 'Setosa' 'Versicolor' 'Virginica' 'Versicolor'\n",
      " 'Versicolor' 'Virginica' 'Setosa' 'Virginica' 'Setosa' 'Virginica'\n",
      " 'Virginica' 'Virginica' 'Virginica' 'Virginica' 'Setosa' 'Setosa']\n"
     ]
    }
   ],
   "source": [
    "# Séparation des données en un ensemble d'entraînement et un ensemble de test\n",
    "X_train, X_test, y_train, y_test = train_test_split(data, labels, test_size=0.2, random_state=42)\n",
    "\n",
    "# Création du modèle d'arbre de décision en utilisant une profondeur maximale de 7\n",
    "clf = tree.DecisionTreeClassifier(max_depth = 7)\n",
    "\n",
    "# Entraînement du modèle\n",
    "clf.fit(X_train, y_train)\n",
    "\n",
    "# Prédiction sur l'ensemble d'entraînement\n",
    "y_train_pred = clf.predict(X_train)\n",
    "print(f'Prédiction sur l\\'ensemble d\\'entrainement :\\n{y_train_pred}')\n",
    "\n",
    "# Prédiction sur l'ensemble de test\n",
    "y_test_pred = clf.predict(X_test)\n",
    "print(f'Prédiction sur l\\'ensemble de test :\\n{y_test_pred}')"
   ]
  },
  {
   "cell_type": "code",
   "execution_count": 18,
   "id": "6f73ee62",
   "metadata": {},
   "outputs": [
    {
     "name": "stdout",
     "output_type": "stream",
     "text": [
      "Accuracy sur le jeu d'entraînement : 0.9916666666666667\n",
      "Accuracy sur le jeu de test : 1.0\n"
     ]
    }
   ],
   "source": [
    "# Évaluation du modèle\n",
    "train_accuracy = accuracy_score(y_train, y_train_pred)\n",
    "test_accuracy = accuracy_score(y_test, y_test_pred)\n",
    "print(f'Accuracy sur le jeu d\\'entraînement : {train_accuracy}')\n",
    "print(f'Accuracy sur le jeu de test : {test_accuracy}')"
   ]
  },
  {
   "cell_type": "code",
   "execution_count": 19,
   "id": "455f564e",
   "metadata": {
    "scrolled": true
   },
   "outputs": [
    {
     "name": "stdout",
     "output_type": "stream",
     "text": [
      "Prédiction sur l'ensemble d'entrainement :\n",
      "['Setosa' 'Setosa' 'Versicolor' 'Setosa' 'Setosa' 'Virginica' 'Versicolor'\n",
      " 'Setosa' 'Setosa' 'Setosa' 'Virginica' 'Versicolor' 'Versicolor' 'Setosa'\n",
      " 'Setosa' 'Versicolor' 'Virginica' 'Virginica' 'Versicolor' 'Virginica'\n",
      " 'Versicolor' 'Virginica' 'Versicolor' 'Setosa' 'Virginica' 'Versicolor'\n",
      " 'Setosa' 'Setosa' 'Setosa' 'Versicolor' 'Virginica' 'Setosa' 'Setosa'\n",
      " 'Setosa' 'Versicolor' 'Setosa' 'Versicolor' 'Virginica' 'Setosa'\n",
      " 'Versicolor' 'Virginica' 'Setosa' 'Virginica' 'Virginica' 'Versicolor'\n",
      " 'Versicolor' 'Virginica' 'Versicolor' 'Setosa' 'Versicolor' 'Virginica'\n",
      " 'Setosa' 'Setosa' 'Versicolor' 'Versicolor' 'Setosa' 'Virginica' 'Setosa'\n",
      " 'Setosa' 'Virginica' 'Versicolor' 'Virginica' 'Versicolor' 'Virginica'\n",
      " 'Virginica' 'Versicolor' 'Setosa' 'Setosa' 'Virginica' 'Virginica'\n",
      " 'Setosa' 'Setosa' 'Setosa' 'Versicolor' 'Virginica' 'Setosa' 'Virginica'\n",
      " 'Virginica' 'Setosa' 'Versicolor' 'Versicolor' 'Virginica' 'Versicolor'\n",
      " 'Virginica' 'Setosa' 'Virginica' 'Versicolor' 'Virginica' 'Versicolor'\n",
      " 'Versicolor' 'Versicolor' 'Setosa' 'Versicolor' 'Versicolor' 'Setosa'\n",
      " 'Versicolor' 'Virginica' 'Virginica' 'Setosa' 'Versicolor' 'Virginica'\n",
      " 'Virginica' 'Setosa' 'Virginica' 'Setosa' 'Versicolor' 'Virginica'\n",
      " 'Virginica' 'Versicolor' 'Virginica' 'Versicolor' 'Versicolor'\n",
      " 'Virginica' 'Virginica' 'Setosa' 'Versicolor' 'Virginica' 'Setosa'\n",
      " 'Versicolor' 'Virginica']\n",
      "Prédiction sur l'ensemble de test :\n",
      "['Versicolor' 'Setosa' 'Virginica' 'Versicolor' 'Versicolor' 'Setosa'\n",
      " 'Versicolor' 'Virginica' 'Versicolor' 'Versicolor' 'Virginica' 'Setosa'\n",
      " 'Setosa' 'Setosa' 'Setosa' 'Versicolor' 'Virginica' 'Versicolor'\n",
      " 'Versicolor' 'Virginica' 'Setosa' 'Virginica' 'Setosa' 'Virginica'\n",
      " 'Virginica' 'Virginica' 'Virginica' 'Virginica' 'Setosa' 'Setosa']\n"
     ]
    }
   ],
   "source": [
    "# Séparation des données en un ensemble d'entraînement et un ensemble de test\n",
    "X_train, X_test, y_train, y_test = train_test_split(data, labels, test_size=0.2, random_state=42)\n",
    "\n",
    "# Création du modèle d'arbre de décision en utilisant une profondeur maximale de 8\n",
    "clf = tree.DecisionTreeClassifier(max_depth = 8)\n",
    "\n",
    "# Entraînement du modèle\n",
    "clf.fit(X_train, y_train)\n",
    "\n",
    "# Prédiction sur l'ensemble d'entraînement\n",
    "y_train_pred = clf.predict(X_train)\n",
    "print(f'Prédiction sur l\\'ensemble d\\'entrainement :\\n{y_train_pred}')\n",
    "\n",
    "# Prédiction sur l'ensemble de test\n",
    "y_test_pred = clf.predict(X_test)\n",
    "print(f'Prédiction sur l\\'ensemble de test :\\n{y_test_pred}')"
   ]
  },
  {
   "cell_type": "code",
   "execution_count": 20,
   "id": "0a7edac3",
   "metadata": {},
   "outputs": [
    {
     "name": "stdout",
     "output_type": "stream",
     "text": [
      "Accuracy sur le jeu d'entraînement : 0.9916666666666667\n",
      "Accuracy sur le jeu de test : 1.0\n"
     ]
    }
   ],
   "source": [
    "# Évaluation du modèle\n",
    "train_accuracy = accuracy_score(y_train, y_train_pred)\n",
    "test_accuracy = accuracy_score(y_test, y_test_pred)\n",
    "print(f'Accuracy sur le jeu d\\'entraînement : {train_accuracy}')\n",
    "print(f'Accuracy sur le jeu de test : {test_accuracy}')"
   ]
  },
  {
   "cell_type": "code",
   "execution_count": 21,
   "id": "f07ed05f",
   "metadata": {},
   "outputs": [
    {
     "name": "stdout",
     "output_type": "stream",
     "text": [
      "Prédiction sur l'ensemble d'entrainement :\n",
      "['Setosa' 'Setosa' 'Versicolor' 'Setosa' 'Setosa' 'Virginica' 'Versicolor'\n",
      " 'Setosa' 'Setosa' 'Setosa' 'Virginica' 'Versicolor' 'Versicolor' 'Setosa'\n",
      " 'Setosa' 'Versicolor' 'Virginica' 'Virginica' 'Versicolor' 'Virginica'\n",
      " 'Versicolor' 'Virginica' 'Versicolor' 'Setosa' 'Virginica' 'Versicolor'\n",
      " 'Setosa' 'Setosa' 'Setosa' 'Versicolor' 'Virginica' 'Setosa' 'Setosa'\n",
      " 'Setosa' 'Versicolor' 'Setosa' 'Versicolor' 'Virginica' 'Setosa'\n",
      " 'Versicolor' 'Virginica' 'Setosa' 'Virginica' 'Virginica' 'Versicolor'\n",
      " 'Versicolor' 'Virginica' 'Versicolor' 'Setosa' 'Versicolor' 'Virginica'\n",
      " 'Setosa' 'Setosa' 'Versicolor' 'Versicolor' 'Setosa' 'Virginica' 'Setosa'\n",
      " 'Setosa' 'Virginica' 'Versicolor' 'Virginica' 'Versicolor' 'Virginica'\n",
      " 'Virginica' 'Versicolor' 'Setosa' 'Setosa' 'Virginica' 'Virginica'\n",
      " 'Setosa' 'Setosa' 'Setosa' 'Versicolor' 'Virginica' 'Setosa' 'Virginica'\n",
      " 'Virginica' 'Setosa' 'Versicolor' 'Versicolor' 'Virginica' 'Versicolor'\n",
      " 'Virginica' 'Setosa' 'Virginica' 'Versicolor' 'Virginica' 'Versicolor'\n",
      " 'Versicolor' 'Versicolor' 'Setosa' 'Versicolor' 'Versicolor' 'Setosa'\n",
      " 'Versicolor' 'Virginica' 'Virginica' 'Setosa' 'Versicolor' 'Virginica'\n",
      " 'Virginica' 'Setosa' 'Virginica' 'Setosa' 'Versicolor' 'Virginica'\n",
      " 'Virginica' 'Versicolor' 'Virginica' 'Versicolor' 'Versicolor'\n",
      " 'Virginica' 'Virginica' 'Setosa' 'Versicolor' 'Virginica' 'Setosa'\n",
      " 'Versicolor' 'Virginica']\n",
      "Prédiction sur l'ensemble de test :\n",
      "['Versicolor' 'Setosa' 'Virginica' 'Versicolor' 'Versicolor' 'Setosa'\n",
      " 'Versicolor' 'Virginica' 'Versicolor' 'Versicolor' 'Virginica' 'Setosa'\n",
      " 'Setosa' 'Setosa' 'Setosa' 'Versicolor' 'Virginica' 'Versicolor'\n",
      " 'Versicolor' 'Virginica' 'Setosa' 'Virginica' 'Setosa' 'Virginica'\n",
      " 'Virginica' 'Virginica' 'Virginica' 'Virginica' 'Setosa' 'Setosa']\n"
     ]
    }
   ],
   "source": [
    "# Séparation des données en un ensemble d'entraînement et un ensemble de test\n",
    "X_train, X_test, y_train, y_test = train_test_split(data, labels, test_size=0.2, random_state=42)\n",
    "\n",
    "# Création du modèle d'arbre de décision en utilisant une profondeur maximale de 9\n",
    "clf = tree.DecisionTreeClassifier(max_depth = 9)\n",
    "\n",
    "# Entraînement du modèle\n",
    "clf.fit(X_train, y_train)\n",
    "\n",
    "# Prédiction sur l'ensemble d'entraînement\n",
    "y_train_pred = clf.predict(X_train)\n",
    "print(f'Prédiction sur l\\'ensemble d\\'entrainement :\\n{y_train_pred}')\n",
    "\n",
    "# Prédiction sur l'ensemble de test\n",
    "y_test_pred = clf.predict(X_test)\n",
    "print(f'Prédiction sur l\\'ensemble de test :\\n{y_test_pred}')"
   ]
  },
  {
   "cell_type": "code",
   "execution_count": 22,
   "id": "ff83ab76",
   "metadata": {},
   "outputs": [
    {
     "name": "stdout",
     "output_type": "stream",
     "text": [
      "Accuracy sur le jeu d'entraînement : 0.9916666666666667\n",
      "Accuracy sur le jeu de test : 1.0\n"
     ]
    }
   ],
   "source": [
    "# Évaluation du modèle\n",
    "train_accuracy = accuracy_score(y_train, y_train_pred)\n",
    "test_accuracy = accuracy_score(y_test, y_test_pred)\n",
    "print(f'Accuracy sur le jeu d\\'entraînement : {train_accuracy}')\n",
    "print(f'Accuracy sur le jeu de test : {test_accuracy}')"
   ]
  },
  {
   "cell_type": "code",
   "execution_count": 23,
   "id": "6818b2a0",
   "metadata": {},
   "outputs": [
    {
     "name": "stdout",
     "output_type": "stream",
     "text": [
      "Prédiction sur l'ensemble d'entrainement :\n",
      "['Setosa' 'Setosa' 'Versicolor' 'Setosa' 'Setosa' 'Virginica' 'Versicolor'\n",
      " 'Setosa' 'Setosa' 'Setosa' 'Virginica' 'Versicolor' 'Versicolor' 'Setosa'\n",
      " 'Setosa' 'Versicolor' 'Virginica' 'Virginica' 'Versicolor' 'Virginica'\n",
      " 'Versicolor' 'Virginica' 'Versicolor' 'Setosa' 'Virginica' 'Versicolor'\n",
      " 'Setosa' 'Setosa' 'Setosa' 'Versicolor' 'Virginica' 'Setosa' 'Setosa'\n",
      " 'Setosa' 'Versicolor' 'Setosa' 'Versicolor' 'Virginica' 'Setosa'\n",
      " 'Versicolor' 'Virginica' 'Setosa' 'Virginica' 'Virginica' 'Versicolor'\n",
      " 'Versicolor' 'Virginica' 'Versicolor' 'Setosa' 'Versicolor' 'Virginica'\n",
      " 'Setosa' 'Setosa' 'Versicolor' 'Versicolor' 'Setosa' 'Virginica' 'Setosa'\n",
      " 'Setosa' 'Virginica' 'Versicolor' 'Virginica' 'Versicolor' 'Virginica'\n",
      " 'Virginica' 'Versicolor' 'Setosa' 'Setosa' 'Virginica' 'Virginica'\n",
      " 'Setosa' 'Setosa' 'Setosa' 'Versicolor' 'Virginica' 'Setosa' 'Virginica'\n",
      " 'Virginica' 'Setosa' 'Versicolor' 'Versicolor' 'Virginica' 'Versicolor'\n",
      " 'Virginica' 'Setosa' 'Virginica' 'Versicolor' 'Virginica' 'Versicolor'\n",
      " 'Versicolor' 'Versicolor' 'Setosa' 'Versicolor' 'Versicolor' 'Setosa'\n",
      " 'Versicolor' 'Virginica' 'Virginica' 'Setosa' 'Versicolor' 'Virginica'\n",
      " 'Virginica' 'Setosa' 'Virginica' 'Setosa' 'Versicolor' 'Virginica'\n",
      " 'Virginica' 'Versicolor' 'Virginica' 'Versicolor' 'Versicolor'\n",
      " 'Virginica' 'Virginica' 'Setosa' 'Versicolor' 'Virginica' 'Setosa'\n",
      " 'Versicolor' 'Virginica']\n",
      "Prédiction sur l'ensemble de test :\n",
      "['Versicolor' 'Setosa' 'Virginica' 'Versicolor' 'Versicolor' 'Setosa'\n",
      " 'Versicolor' 'Virginica' 'Versicolor' 'Versicolor' 'Virginica' 'Setosa'\n",
      " 'Setosa' 'Setosa' 'Setosa' 'Versicolor' 'Virginica' 'Versicolor'\n",
      " 'Versicolor' 'Virginica' 'Setosa' 'Virginica' 'Setosa' 'Virginica'\n",
      " 'Virginica' 'Virginica' 'Virginica' 'Virginica' 'Setosa' 'Setosa']\n"
     ]
    }
   ],
   "source": [
    "# Séparation des données en un ensemble d'entraînement et un ensemble de test\n",
    "X_train, X_test, y_train, y_test = train_test_split(data, labels, test_size=0.2, random_state=42)\n",
    "\n",
    "# Création du modèle d'arbre de décision en utilisant une profondeur maximale de 10\n",
    "clf = tree.DecisionTreeClassifier(max_depth = 10)\n",
    "\n",
    "# Entraînement du modèle\n",
    "clf.fit(X_train, y_train)\n",
    "\n",
    "# Prédiction sur l'ensemble d'entraînement\n",
    "y_train_pred = clf.predict(X_train)\n",
    "print(f'Prédiction sur l\\'ensemble d\\'entrainement :\\n{y_train_pred}')\n",
    "\n",
    "# Prédiction sur l'ensemble de test\n",
    "y_test_pred = clf.predict(X_test)\n",
    "print(f'Prédiction sur l\\'ensemble de test :\\n{y_test_pred}')"
   ]
  },
  {
   "cell_type": "code",
   "execution_count": 24,
   "id": "c47a0531",
   "metadata": {},
   "outputs": [
    {
     "name": "stdout",
     "output_type": "stream",
     "text": [
      "Accuracy sur le jeu d'entraînement : 0.9916666666666667\n",
      "Accuracy sur le jeu de test : 1.0\n"
     ]
    }
   ],
   "source": [
    "# Évaluation du modèle\n",
    "train_accuracy = accuracy_score(y_train, y_train_pred)\n",
    "test_accuracy = accuracy_score(y_test, y_test_pred)\n",
    "print(f'Accuracy sur le jeu d\\'entraînement : {train_accuracy}')\n",
    "print(f'Accuracy sur le jeu de test : {test_accuracy}')"
   ]
  },
  {
   "cell_type": "code",
   "execution_count": 25,
   "id": "dc6fe46e",
   "metadata": {},
   "outputs": [
    {
     "data": {
      "text/plain": [
       "\"La précision sur le jeu d'entrainement augmente jusqu'à une profondeur de 6 après elle stagne a 99.1%. La précision sur le jeu de test quand à elle reste à 100% peut importe la profondeur.\""
      ]
     },
     "execution_count": 25,
     "metadata": {},
     "output_type": "execute_result"
    }
   ],
   "source": [
    "\"\"\"La précision sur le jeu d'entrainement augmente jusqu'à une profondeur de 6 après elle stagne a 99.1%. La précision sur le jeu de test quand à elle reste à 100% peut importe la profondeur.\"\"\""
   ]
  }
 ],
 "metadata": {
  "kernelspec": {
   "display_name": "Python [conda env:New_World]",
   "language": "python",
   "name": "conda-env-New_World-py"
  },
  "language_info": {
   "codemirror_mode": {
    "name": "ipython",
    "version": 3
   },
   "file_extension": ".py",
   "mimetype": "text/x-python",
   "name": "python",
   "nbconvert_exporter": "python",
   "pygments_lexer": "ipython3",
   "version": "3.10.0"
  }
 },
 "nbformat": 4,
 "nbformat_minor": 5
}
